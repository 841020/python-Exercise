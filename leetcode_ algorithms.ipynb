{
 "cells": [
  {
   "cell_type": "code",
   "execution_count": null,
   "metadata": {},
   "outputs": [],
   "source": [
    "# 7. Reverse Integer\n",
    "class Solution:\n",
    "    def reverse(self, x: int) -> int:\n",
    "        if x == 0:\n",
    "            return 0\n",
    "        if x > 0:\n",
    "            rever_str = str(x)[::-1]\n",
    "            rever_num = int(rever_str)\n",
    "            if rever_num > 2147483647:  # 32bit Positive integer maximum\n",
    "                return 0\n",
    "            return rever_num\n",
    "        rever_str = str(x)[:0:-1]\n",
    "        rever_num = int(rever_str)*-1\n",
    "        if rever_num < -2147483648:  # 32bit Negative integer minimum\n",
    "            return 0\n",
    "        return rever_num"
   ]
  },
  {
   "cell_type": "code",
   "execution_count": null,
   "metadata": {},
   "outputs": [],
   "source": [
    "# 9. Palindrome Number\n",
    "class Solution(object):\n",
    "    def isPalindrome(self, x):\n",
    "        \"\"\"\n",
    "        :type x: int\n",
    "        :rtype: bool\n",
    "        \"\"\"\n",
    "        if str(x) == str(x)[::-1]:\n",
    "            return True\n",
    "        return False"
   ]
  },
  {
   "cell_type": "code",
   "execution_count": null,
   "metadata": {},
   "outputs": [],
   "source": [
    "# 28. Implement strStr()\n",
    "class Solution(object):\n",
    "    def strStr(self, haystack, needle):\n",
    "        \"\"\"\n",
    "        :type haystack: str\n",
    "        :type needle: str\n",
    "        :rtype: int\n",
    "        \"\"\"\n",
    "        return haystack.find(needle)"
   ]
  },
  {
   "cell_type": "code",
   "execution_count": null,
   "metadata": {},
   "outputs": [],
   "source": [
    "# 69. Sqrt(x)\n",
    "class Solution(object):\n",
    "    def mySqrt(self, x):\n",
    "        \"\"\"\n",
    "        :type x: int\n",
    "        :rtype: int\n",
    "        \"\"\"\n",
    "\n",
    "        return int(x**(0.5))"
   ]
  },
  {
   "cell_type": "code",
   "execution_count": null,
   "metadata": {},
   "outputs": [],
   "source": [
    "# 190. Reverse Bits\n",
    "class Solution:\n",
    "    # @param n, an integer\n",
    "    # @return an integer\n",
    "    def reverseBits(self, n):\n",
    "        if not n:\n",
    "            return 0\n",
    "        n = '{:0>32b}'.format(n)\n",
    "        return int(n[::-1], 2)"
   ]
  },
  {
   "cell_type": "code",
   "execution_count": null,
   "metadata": {},
   "outputs": [],
   "source": [
    "# 231. Power of Two\n",
    "class Solution(object):\n",
    "    def isPowerOfTwo(self, n):\n",
    "        \"\"\"\n",
    "        :type n: int\n",
    "        :rtype: bool\n",
    "        \"\"\"\n",
    "        if not n or not isinstance(n/2, int):\n",
    "            return False\n",
    "        if {n} & {1, 2, 4, 8, 16, 32, 64, 128, 256, 512, 1024, 2048, 4096}:\n",
    "            return True\n",
    "        while n % 2 == 0:\n",
    "            n = n/2\n",
    "            if not isinstance(n, int):\n",
    "                return False\n",
    "            if n == 2:\n",
    "                return True\n",
    "            if n == 4:\n",
    "                return True\n",
    "            if n == 8:\n",
    "                return True\n",
    "        return False"
   ]
  },
  {
   "cell_type": "code",
   "execution_count": null,
   "metadata": {},
   "outputs": [],
   "source": [
    "# 414. Third Maximum Number\n",
    "class Solution:\n",
    "    def thirdMax(self, nums: List[int]) -> int:\n",
    "        if len(set(nums)) < 3:\n",
    "            return max(nums)\n",
    "        nums = set(nums)\n",
    "        nums.remove(max(nums))\n",
    "        nums.remove(max(nums))\n",
    "        return max(nums)"
   ]
  },
  {
   "cell_type": "code",
   "execution_count": null,
   "metadata": {},
   "outputs": [],
   "source": [
    "# 657. Robot Return to Origin\n",
    "class Solution:\n",
    "    def judgeCircle(self, moves: str) -> bool:\n",
    "        if list(moves).count('U') == list(moves).count('D') and list(moves).count('R') == list(moves).count('L'):\n",
    "            return True\n",
    "        return False"
   ]
  },
  {
   "cell_type": "code",
   "execution_count": null,
   "metadata": {},
   "outputs": [],
   "source": [
    "# 709. To Lower Case\n",
    "class Solution:\n",
    "    def toLowerCase(self, str: str) -> str:\n",
    "        return str.lower()"
   ]
  },
  {
   "cell_type": "code",
   "execution_count": null,
   "metadata": {},
   "outputs": [],
   "source": [
    "# 771. Jewels and Stones\n",
    "class Solution:\n",
    "    def numJewelsInStones(self, J: str, S: str) -> int:\n",
    "        my_jewels_type = set(S) & set(J)\n",
    "        cnt = 0\n",
    "        for i in my_jewels_type:\n",
    "            cnt += S.count(i)\n",
    "        return cnt"
   ]
  },
  {
   "cell_type": "code",
   "execution_count": null,
   "metadata": {},
   "outputs": [],
   "source": [
    "# 804. Unique Morse Code Words\n",
    "class Solution:\n",
    "    def uniqueMorseRepresentations(self, words: List[str]) -> int:\n",
    "        map_list = [\".-\", \"-...\", \"-.-.\", \"-..\", \".\", \"..-.\", \"--.\", \"....\",\n",
    "                    \"..\", \".---\", \"-.-\", \".-..\", \"--\", \"-.\", \"---\", \".--.\",\n",
    "                    \"--.-\", \".-.\", \"...\", \"-\", \"..-\", \"...-\", \".--\", \"-..-\",\n",
    "                    \"-.--\", \"--..\"]\n",
    "        output_list = []\n",
    "        for single_word in words:\n",
    "            morse = ''\n",
    "            for letter in single_word:\n",
    "                morse_letter = map_list[ord(letter)-97]\n",
    "                morse += morse_letter\n",
    "            output_list.append(morse)\n",
    "        return len(set(output_list))"
   ]
  },
  {
   "cell_type": "code",
   "execution_count": null,
   "metadata": {},
   "outputs": [],
   "source": [
    "# 832. Flipping an Image\n",
    "class Solution:\n",
    "    def flipAndInvertImage(self, A: List[List[int]]) -> List[List[int]]:\n",
    "        map_dict = {0: 1, 1: 0}\n",
    "        for i in range(len(A)):\n",
    "            A[i] = A[i][::-1]\n",
    "            for j in range(len(A[i])):\n",
    "                A[i][j] = map_dict[A[i][j]]\n",
    "        return A"
   ]
  }
 ],
 "metadata": {
  "kernelspec": {
   "display_name": "Python 3",
   "language": "python",
   "name": "python3"
  },
  "language_info": {
   "codemirror_mode": {
    "name": "ipython",
    "version": 3
   },
   "file_extension": ".py",
   "mimetype": "text/x-python",
   "name": "python",
   "nbconvert_exporter": "python",
   "pygments_lexer": "ipython3",
   "version": "3.6.3"
  }
 },
 "nbformat": 4,
 "nbformat_minor": 2
}
