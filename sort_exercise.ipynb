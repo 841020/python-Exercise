{
 "cells": [
  {
   "cell_type": "code",
   "execution_count": 15,
   "metadata": {},
   "outputs": [
    {
     "name": "stdout",
     "output_type": "stream",
     "text": [
      "round 0\n",
      "[10, 9, 8, 6, 7]\n",
      "[10, 9, 6, 8, 7]\n",
      "[10, 6, 9, 8, 7]\n",
      "[6, 10, 9, 8, 7]\n",
      "round 1\n",
      "[6, 10, 9, 7, 8]\n",
      "[6, 10, 7, 9, 8]\n",
      "[6, 7, 10, 9, 8]\n",
      "round 2\n",
      "[6, 7, 10, 8, 9]\n",
      "[6, 7, 8, 10, 9]\n",
      "round 3\n",
      "[6, 7, 8, 9, 10]\n",
      "round 4\n"
     ]
    }
   ],
   "source": [
    "# bubble sort\n",
    "# Move the smallest number to the front\n",
    "def bubbleSort(lt):\n",
    "    for i in range(len(lt)):\n",
    "        print('round {}'.format(i))\n",
    "        for j in range(len(lt)-1, i, -1):\n",
    "            if lt[j] < lt[j-1]:\n",
    "                (lt[j], lt[j-1]) = (lt[j-1], lt[j])\n",
    "            print(lt)\n",
    "\n",
    "\n",
    "lt = [10, 9, 8, 7, 6]\n",
    "bubbleSort(lt)"
   ]
  },
  {
   "cell_type": "code",
   "execution_count": 16,
   "metadata": {},
   "outputs": [
    {
     "name": "stdout",
     "output_type": "stream",
     "text": [
      "round 0\n",
      "[9, 10, 8, 7, 6]\n",
      "[9, 8, 10, 7, 6]\n",
      "[9, 8, 7, 10, 6]\n",
      "[9, 8, 7, 6, 10]\n",
      "round 1\n",
      "[8, 9, 7, 6, 10]\n",
      "[8, 7, 9, 6, 10]\n",
      "[8, 7, 6, 9, 10]\n",
      "round 2\n",
      "[7, 8, 6, 9, 10]\n",
      "[7, 6, 8, 9, 10]\n",
      "round 3\n",
      "[6, 7, 8, 9, 10]\n",
      "round 4\n"
     ]
    }
   ],
   "source": [
    "# bubble sort\n",
    "# Move the largest number to the end\n",
    "def bubbleSort(lt):\n",
    "    for i in range(len(lt)):\n",
    "        print('round {}'.format(i))\n",
    "        for j in range(1, len(lt)-i):\n",
    "            if lt[j] < lt[j-1]:\n",
    "                (lt[j], lt[j-1]) = (lt[j-1], lt[j])\n",
    "            print(lt)\n",
    "\n",
    "\n",
    "lt = [10, 9, 8, 7, 6]\n",
    "bubbleSort(lt)"
   ]
  },
  {
   "cell_type": "code",
   "execution_count": 22,
   "metadata": {},
   "outputs": [
    {
     "name": "stdout",
     "output_type": "stream",
     "text": [
      "[1, 2, 3, 4, 5]\n"
     ]
    }
   ],
   "source": [
    "# selection sort\n",
    "def selectionSort(lt):\n",
    "    for i in range(len(lt)):\n",
    "        min_index = lt.index(min(lt[i:]))\n",
    "        if lt[i] > min(lt[i:]):\n",
    "            lt[i], lt[min_index] = lt[min_index], lt[i]\n",
    "    print(lt)\n",
    "\n",
    "\n",
    "selectionSort([5, 4, 3, 2, 1])"
   ]
  },
  {
   "cell_type": "code",
   "execution_count": 26,
   "metadata": {},
   "outputs": [
    {
     "name": "stdout",
     "output_type": "stream",
     "text": [
      "round 0\n",
      "[4, 5, 3, 2, 1]\n",
      "round 1\n",
      "[3, 4, 5, 2, 1]\n",
      "round 2\n",
      "[2, 3, 4, 5, 1]\n",
      "round 3\n",
      "[1, 2, 3, 4, 5]\n"
     ]
    }
   ],
   "source": [
    "# insertion sort\n",
    "def insertionSort(lt):\n",
    "    for i in range(1, len(lt)):\n",
    "        for j in range(i):\n",
    "            if lt[j] > lt[i]:\n",
    "                (lt[i], lt[j]) = (lt[j], lt[i])\n",
    "        print('round {}'.format(i - 1))\n",
    "        print(lt)\n",
    "\n",
    "\n",
    "lt = [5, 4, 3, 2, 1]\n",
    "insertionSort(lt)"
   ]
  },
  {
   "cell_type": "code",
   "execution_count": 27,
   "metadata": {},
   "outputs": [
    {
     "name": "stdout",
     "output_type": "stream",
     "text": [
      "4 5 3 2 1 \n",
      "3 4 5 2 1 \n",
      "2 3 4 5 1 \n",
      "1 2 3 4 5 \n"
     ]
    }
   ],
   "source": [
    "# insertion sort\n",
    "def insertionSort2(lt):\n",
    "    def xx(lt):\n",
    "        for i in lt:\n",
    "            print(i, end=' ')\n",
    "    if len(lt) == 1:\n",
    "        xx(lt)\n",
    "        print('')\n",
    "    for i in range(1, len(lt)):\n",
    "        for j in range(i, 0, -1):\n",
    "            if lt[j] < lt[j-1]:\n",
    "                (lt[j], lt[j-1]) = (lt[j-1], lt[j])\n",
    "            else:\n",
    "                break\n",
    "        xx(lt)\n",
    "        print('')\n",
    "\n",
    "\n",
    "lt = [5, 4, 3, 2, 1]\n",
    "insertionSort2(lt)"
   ]
  }
 ],
 "metadata": {
  "kernelspec": {
   "display_name": "Python 3",
   "language": "python",
   "name": "python3"
  },
  "language_info": {
   "codemirror_mode": {
    "name": "ipython",
    "version": 3
   },
   "file_extension": ".py",
   "mimetype": "text/x-python",
   "name": "python",
   "nbconvert_exporter": "python",
   "pygments_lexer": "ipython3",
   "version": "3.6.3"
  }
 },
 "nbformat": 4,
 "nbformat_minor": 2
}
