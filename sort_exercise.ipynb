{
 "cells": [
  {
   "cell_type": "code",
   "execution_count": 15,
   "metadata": {},
   "outputs": [
    {
     "name": "stdout",
     "output_type": "stream",
     "text": [
      "round 0\n",
      "[10, 9, 8, 6, 7]\n",
      "[10, 9, 6, 8, 7]\n",
      "[10, 6, 9, 8, 7]\n",
      "[6, 10, 9, 8, 7]\n",
      "round 1\n",
      "[6, 10, 9, 7, 8]\n",
      "[6, 10, 7, 9, 8]\n",
      "[6, 7, 10, 9, 8]\n",
      "round 2\n",
      "[6, 7, 10, 8, 9]\n",
      "[6, 7, 8, 10, 9]\n",
      "round 3\n",
      "[6, 7, 8, 9, 10]\n",
      "round 4\n"
     ]
    }
   ],
   "source": [
    "# bubble sort\n",
    "# Move the smallest number to the front\n",
    "\n",
    "\n",
    "def bubbleSort(lt):\n",
    "    for i in range(len(lt)):\n",
    "        print('round {}'.format(i))\n",
    "        for j in range(len(lt)-1, i, -1):\n",
    "            if lt[j] < lt[j-1]:\n",
    "                (lt[j], lt[j-1]) = (lt[j-1], lt[j])\n",
    "            print(lt)\n",
    "\n",
    "\n",
    "lt = [10, 9, 8, 7, 6]\n",
    "bubbleSort(lt)"
   ]
  },
  {
   "cell_type": "code",
   "execution_count": 16,
   "metadata": {},
   "outputs": [
    {
     "name": "stdout",
     "output_type": "stream",
     "text": [
      "round 0\n",
      "[9, 10, 8, 7, 6]\n",
      "[9, 8, 10, 7, 6]\n",
      "[9, 8, 7, 10, 6]\n",
      "[9, 8, 7, 6, 10]\n",
      "round 1\n",
      "[8, 9, 7, 6, 10]\n",
      "[8, 7, 9, 6, 10]\n",
      "[8, 7, 6, 9, 10]\n",
      "round 2\n",
      "[7, 8, 6, 9, 10]\n",
      "[7, 6, 8, 9, 10]\n",
      "round 3\n",
      "[6, 7, 8, 9, 10]\n",
      "round 4\n"
     ]
    }
   ],
   "source": [
    "# bubble sort\n",
    "# Move the largest number to the end\n",
    "\n",
    "\n",
    "def bubbleSort(lt):\n",
    "    for i in range(len(lt)):\n",
    "        print('round {}'.format(i))\n",
    "        for j in range(1, len(lt)-i):\n",
    "            if lt[j] < lt[j-1]:\n",
    "                (lt[j], lt[j-1]) = (lt[j-1], lt[j])\n",
    "            print(lt)\n",
    "\n",
    "\n",
    "lt = [10, 9, 8, 7, 6]\n",
    "bubbleSort(lt)"
   ]
  }
 ],
 "metadata": {
  "kernelspec": {
   "display_name": "Python 3",
   "language": "python",
   "name": "python3"
  },
  "language_info": {
   "codemirror_mode": {
    "name": "ipython",
    "version": 3
   },
   "file_extension": ".py",
   "mimetype": "text/x-python",
   "name": "python",
   "nbconvert_exporter": "python",
   "pygments_lexer": "ipython3",
   "version": "3.6.3"
  }
 },
 "nbformat": 4,
 "nbformat_minor": 2
}
